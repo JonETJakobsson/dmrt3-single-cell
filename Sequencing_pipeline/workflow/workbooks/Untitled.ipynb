{
 "cells": [
  {
   "cell_type": "code",
   "execution_count": 148,
   "metadata": {},
   "outputs": [],
   "source": [
    "import scanpy as sc"
   ]
  },
  {
   "cell_type": "code",
   "execution_count": 161,
   "metadata": {},
   "outputs": [
    {
     "name": "stderr",
     "output_type": "stream",
     "text": [
      "Variable names are not unique. To make them unique, call `.var_names_make_unique`.\n"
     ]
    }
   ],
   "source": [
    "adata = sc.read_loom(\"../../results/loom/mmusculus.loom\")"
   ]
  },
  {
   "cell_type": "code",
   "execution_count": 162,
   "metadata": {},
   "outputs": [
    {
     "data": {
      "text/html": [
       "<div>\n",
       "<style scoped>\n",
       "    .dataframe tbody tr th:only-of-type {\n",
       "        vertical-align: middle;\n",
       "    }\n",
       "\n",
       "    .dataframe tbody tr th {\n",
       "        vertical-align: top;\n",
       "    }\n",
       "\n",
       "    .dataframe thead th {\n",
       "        text-align: right;\n",
       "    }\n",
       "</style>\n",
       "<table border=\"1\" class=\"dataframe\">\n",
       "  <thead>\n",
       "    <tr style=\"text-align: right;\">\n",
       "      <th></th>\n",
       "      <th>Accession</th>\n",
       "      <th>Chromosome</th>\n",
       "      <th>gene_lenght</th>\n",
       "    </tr>\n",
       "  </thead>\n",
       "  <tbody>\n",
       "    <tr>\n",
       "      <th>Xkr4</th>\n",
       "      <td>ENSMUSG00000051951</td>\n",
       "      <td>1</td>\n",
       "      <td>6094</td>\n",
       "    </tr>\n",
       "    <tr>\n",
       "      <th>Gm37180</th>\n",
       "      <td>ENSMUSG00000103377</td>\n",
       "      <td>1</td>\n",
       "      <td>2819</td>\n",
       "    </tr>\n",
       "    <tr>\n",
       "      <th>Gm37363</th>\n",
       "      <td>ENSMUSG00000104017</td>\n",
       "      <td>1</td>\n",
       "      <td>2233</td>\n",
       "    </tr>\n",
       "    <tr>\n",
       "      <th>Gm37686</th>\n",
       "      <td>ENSMUSG00000103025</td>\n",
       "      <td>1</td>\n",
       "      <td>2309</td>\n",
       "    </tr>\n",
       "    <tr>\n",
       "      <th>Gm37329</th>\n",
       "      <td>ENSMUSG00000103201</td>\n",
       "      <td>1</td>\n",
       "      <td>2057</td>\n",
       "    </tr>\n",
       "    <tr>\n",
       "      <th>...</th>\n",
       "      <td>...</td>\n",
       "      <td>...</td>\n",
       "      <td>...</td>\n",
       "    </tr>\n",
       "    <tr>\n",
       "      <th>Gm20837</th>\n",
       "      <td>ENSMUSG00000096178</td>\n",
       "      <td>Y</td>\n",
       "      <td>946</td>\n",
       "    </tr>\n",
       "    <tr>\n",
       "      <th>Mid1-ps1</th>\n",
       "      <td>ENSMUSG00000095134</td>\n",
       "      <td>Y</td>\n",
       "      <td>1248</td>\n",
       "    </tr>\n",
       "    <tr>\n",
       "      <th>Gm47283</th>\n",
       "      <td>ENSMUSG00000096768</td>\n",
       "      <td>Y</td>\n",
       "      <td>4501</td>\n",
       "    </tr>\n",
       "    <tr>\n",
       "      <th>Gm21742</th>\n",
       "      <td>ENSMUSG00000099871</td>\n",
       "      <td>Y</td>\n",
       "      <td>548</td>\n",
       "    </tr>\n",
       "    <tr>\n",
       "      <th>tdTomato</th>\n",
       "      <td>tdTomato</td>\n",
       "      <td>tdTomato</td>\n",
       "      <td>711</td>\n",
       "    </tr>\n",
       "  </tbody>\n",
       "</table>\n",
       "<p>55581 rows × 3 columns</p>\n",
       "</div>"
      ],
      "text/plain": [
       "                   Accession Chromosome  gene_lenght\n",
       "Xkr4      ENSMUSG00000051951          1         6094\n",
       "Gm37180   ENSMUSG00000103377          1         2819\n",
       "Gm37363   ENSMUSG00000104017          1         2233\n",
       "Gm37686   ENSMUSG00000103025          1         2309\n",
       "Gm37329   ENSMUSG00000103201          1         2057\n",
       "...                      ...        ...          ...\n",
       "Gm20837   ENSMUSG00000096178          Y          946\n",
       "Mid1-ps1  ENSMUSG00000095134          Y         1248\n",
       "Gm47283   ENSMUSG00000096768          Y         4501\n",
       "Gm21742   ENSMUSG00000099871          Y          548\n",
       "tdTomato            tdTomato   tdTomato          711\n",
       "\n",
       "[55581 rows x 3 columns]"
      ]
     },
     "execution_count": 162,
     "metadata": {},
     "output_type": "execute_result"
    }
   ],
   "source": [
    "adata.var"
   ]
  },
  {
   "cell_type": "code",
   "execution_count": 163,
   "metadata": {},
   "outputs": [],
   "source": [
    "adata.X = adata.layers[\"RPKM\"]"
   ]
  },
  {
   "cell_type": "code",
   "execution_count": 164,
   "metadata": {},
   "outputs": [],
   "source": [
    "sc.pp.calculate_qc_metrics(adata, inplace=True)"
   ]
  },
  {
   "cell_type": "code",
   "execution_count": 165,
   "metadata": {},
   "outputs": [],
   "source": [
    "sc.pp.log1p(adata)"
   ]
  },
  {
   "cell_type": "code",
   "execution_count": 167,
   "metadata": {},
   "outputs": [
    {
     "data": {
      "text/html": [
       "<div>\n",
       "<style scoped>\n",
       "    .dataframe tbody tr th:only-of-type {\n",
       "        vertical-align: middle;\n",
       "    }\n",
       "\n",
       "    .dataframe tbody tr th {\n",
       "        vertical-align: top;\n",
       "    }\n",
       "\n",
       "    .dataframe thead th {\n",
       "        text-align: right;\n",
       "    }\n",
       "</style>\n",
       "<table border=\"1\" class=\"dataframe\">\n",
       "  <thead>\n",
       "    <tr style=\"text-align: right;\">\n",
       "      <th></th>\n",
       "      <th>Accession</th>\n",
       "      <th>Chromosome</th>\n",
       "      <th>gene_lenght</th>\n",
       "      <th>n_cells_by_counts</th>\n",
       "      <th>mean_counts</th>\n",
       "      <th>log1p_mean_counts</th>\n",
       "      <th>pct_dropout_by_counts</th>\n",
       "      <th>total_counts</th>\n",
       "      <th>log1p_total_counts</th>\n",
       "    </tr>\n",
       "  </thead>\n",
       "  <tbody>\n",
       "    <tr>\n",
       "      <th>Cre</th>\n",
       "      <td>Cre</td>\n",
       "      <td>Cre</td>\n",
       "      <td>1032</td>\n",
       "      <td>0</td>\n",
       "      <td>0.000000</td>\n",
       "      <td>0.000000</td>\n",
       "      <td>100.000000</td>\n",
       "      <td>0.00000</td>\n",
       "      <td>0.00000</td>\n",
       "    </tr>\n",
       "    <tr>\n",
       "      <th>tdTomato</th>\n",
       "      <td>tdTomato</td>\n",
       "      <td>tdTomato</td>\n",
       "      <td>711</td>\n",
       "      <td>125</td>\n",
       "      <td>3.254205</td>\n",
       "      <td>1.447908</td>\n",
       "      <td>67.447917</td>\n",
       "      <td>1249.61457</td>\n",
       "      <td>7.13139</td>\n",
       "    </tr>\n",
       "  </tbody>\n",
       "</table>\n",
       "</div>"
      ],
      "text/plain": [
       "         Accession Chromosome  gene_lenght  n_cells_by_counts  mean_counts  \\\n",
       "Cre            Cre        Cre         1032                  0     0.000000   \n",
       "tdTomato  tdTomato   tdTomato          711                125     3.254205   \n",
       "\n",
       "          log1p_mean_counts  pct_dropout_by_counts  total_counts  \\\n",
       "Cre                0.000000             100.000000       0.00000   \n",
       "tdTomato           1.447908              67.447917    1249.61457   \n",
       "\n",
       "          log1p_total_counts  \n",
       "Cre                  0.00000  \n",
       "tdTomato             7.13139  "
      ]
     },
     "execution_count": 167,
     "metadata": {},
     "output_type": "execute_result"
    }
   ],
   "source": [
    "adata.var.loc[[\"Cre\", \"tdTomato\"]]"
   ]
  },
  {
   "cell_type": "code",
   "execution_count": 168,
   "metadata": {},
   "outputs": [
    {
     "name": "stderr",
     "output_type": "stream",
     "text": [
      "Observation names are not unique. To make them unique, call `.obs_names_make_unique`.\n",
      "/home/jon/miniconda3/envs/npy/lib/python3.8/site-packages/anndata/_core/anndata.py:1192: FutureWarning: is_categorical is deprecated and will be removed in a future version.  Use is_categorical_dtype instead\n",
      "  if is_string_dtype(df[key]) and not is_categorical(df[key])\n",
      "... storing 'Chromosome' as categorical\n"
     ]
    },
    {
     "data": {
      "image/png": "[encoded data removed]",
      "text/plain": [
       "<Figure size 487.93x288 with 1 Axes>"
      ]
     },
     "metadata": {
      "needs_background": "light"
     },
     "output_type": "display_data"
    }
   ],
   "source": [
    "sc.pl.scatter(adata, x=\"log1p_mean_counts\", y=\"gene_lenght\")"
   ]
  },
  {
   "cell_type": "code",
   "execution_count": 169,
   "metadata": {},
   "outputs": [
    {
     "data": {
      "text/html": [
       "<div>\n",
       "<style scoped>\n",
       "    .dataframe tbody tr th:only-of-type {\n",
       "        vertical-align: middle;\n",
       "    }\n",
       "\n",
       "    .dataframe tbody tr th {\n",
       "        vertical-align: top;\n",
       "    }\n",
       "\n",
       "    .dataframe thead th {\n",
       "        text-align: right;\n",
       "    }\n",
       "</style>\n",
       "<table border=\"1\" class=\"dataframe\">\n",
       "  <thead>\n",
       "    <tr style=\"text-align: right;\">\n",
       "      <th></th>\n",
       "      <th>well</th>\n",
       "      <th>n_genes_by_counts</th>\n",
       "      <th>log1p_n_genes_by_counts</th>\n",
       "      <th>total_counts</th>\n",
       "      <th>log1p_total_counts</th>\n",
       "      <th>pct_counts_in_top_50_genes</th>\n",
       "      <th>pct_counts_in_top_100_genes</th>\n",
       "      <th>pct_counts_in_top_200_genes</th>\n",
       "      <th>pct_counts_in_top_500_genes</th>\n",
       "    </tr>\n",
       "  </thead>\n",
       "  <tbody>\n",
       "    <tr>\n",
       "      <th>A1</th>\n",
       "      <td>A1</td>\n",
       "      <td>6881</td>\n",
       "      <td>8.836665</td>\n",
       "      <td>274396.418145</td>\n",
       "      <td>12.522333</td>\n",
       "      <td>19.840921</td>\n",
       "      <td>25.839505</td>\n",
       "      <td>33.360081</td>\n",
       "      <td>47.525825</td>\n",
       "    </tr>\n",
       "    <tr>\n",
       "      <th>A2</th>\n",
       "      <td>A2</td>\n",
       "      <td>8101</td>\n",
       "      <td>8.999866</td>\n",
       "      <td>283105.174010</td>\n",
       "      <td>12.553577</td>\n",
       "      <td>20.939044</td>\n",
       "      <td>27.255579</td>\n",
       "      <td>35.127449</td>\n",
       "      <td>49.110680</td>\n",
       "    </tr>\n",
       "    <tr>\n",
       "      <th>A3</th>\n",
       "      <td>A3</td>\n",
       "      <td>8640</td>\n",
       "      <td>9.064274</td>\n",
       "      <td>284992.315992</td>\n",
       "      <td>12.560221</td>\n",
       "      <td>22.172955</td>\n",
       "      <td>28.552917</td>\n",
       "      <td>36.249646</td>\n",
       "      <td>49.253486</td>\n",
       "    </tr>\n",
       "    <tr>\n",
       "      <th>A4</th>\n",
       "      <td>A4</td>\n",
       "      <td>5695</td>\n",
       "      <td>8.647519</td>\n",
       "      <td>291690.435467</td>\n",
       "      <td>12.583452</td>\n",
       "      <td>27.611165</td>\n",
       "      <td>33.266155</td>\n",
       "      <td>40.934702</td>\n",
       "      <td>54.661100</td>\n",
       "    </tr>\n",
       "    <tr>\n",
       "      <th>A5</th>\n",
       "      <td>A5</td>\n",
       "      <td>7143</td>\n",
       "      <td>8.874028</td>\n",
       "      <td>277404.509065</td>\n",
       "      <td>12.533236</td>\n",
       "      <td>18.475173</td>\n",
       "      <td>24.793406</td>\n",
       "      <td>33.001828</td>\n",
       "      <td>47.420532</td>\n",
       "    </tr>\n",
       "    <tr>\n",
       "      <th>...</th>\n",
       "      <td>...</td>\n",
       "      <td>...</td>\n",
       "      <td>...</td>\n",
       "      <td>...</td>\n",
       "      <td>...</td>\n",
       "      <td>...</td>\n",
       "      <td>...</td>\n",
       "      <td>...</td>\n",
       "      <td>...</td>\n",
       "    </tr>\n",
       "    <tr>\n",
       "      <th>P20</th>\n",
       "      <td>P20</td>\n",
       "      <td>5714</td>\n",
       "      <td>8.650850</td>\n",
       "      <td>269391.584088</td>\n",
       "      <td>12.503925</td>\n",
       "      <td>24.437546</td>\n",
       "      <td>30.603855</td>\n",
       "      <td>38.339866</td>\n",
       "      <td>52.542721</td>\n",
       "    </tr>\n",
       "    <tr>\n",
       "      <th>P21</th>\n",
       "      <td>P21</td>\n",
       "      <td>404</td>\n",
       "      <td>6.003887</td>\n",
       "      <td>632658.457102</td>\n",
       "      <td>13.357688</td>\n",
       "      <td>89.952158</td>\n",
       "      <td>97.011003</td>\n",
       "      <td>99.435605</td>\n",
       "      <td>100.000000</td>\n",
       "    </tr>\n",
       "    <tr>\n",
       "      <th>P22</th>\n",
       "      <td>P22</td>\n",
       "      <td>8214</td>\n",
       "      <td>9.013717</td>\n",
       "      <td>280382.666402</td>\n",
       "      <td>12.543914</td>\n",
       "      <td>22.469723</td>\n",
       "      <td>28.370960</td>\n",
       "      <td>35.735929</td>\n",
       "      <td>48.922146</td>\n",
       "    </tr>\n",
       "    <tr>\n",
       "      <th>P23</th>\n",
       "      <td>P23</td>\n",
       "      <td>2676</td>\n",
       "      <td>7.892452</td>\n",
       "      <td>287411.914203</td>\n",
       "      <td>12.568675</td>\n",
       "      <td>42.949351</td>\n",
       "      <td>49.899946</td>\n",
       "      <td>59.486587</td>\n",
       "      <td>76.346606</td>\n",
       "    </tr>\n",
       "    <tr>\n",
       "      <th>P24</th>\n",
       "      <td>P24</td>\n",
       "      <td>4735</td>\n",
       "      <td>8.462948</td>\n",
       "      <td>273458.431905</td>\n",
       "      <td>12.518909</td>\n",
       "      <td>41.822391</td>\n",
       "      <td>45.813129</td>\n",
       "      <td>51.569357</td>\n",
       "      <td>63.513161</td>\n",
       "    </tr>\n",
       "  </tbody>\n",
       "</table>\n",
       "<p>384 rows × 9 columns</p>\n",
       "</div>"
      ],
      "text/plain": [
       "    well  n_genes_by_counts  log1p_n_genes_by_counts   total_counts  \\\n",
       "A1    A1               6881                 8.836665  274396.418145   \n",
       "A2    A2               8101                 8.999866  283105.174010   \n",
       "A3    A3               8640                 9.064274  284992.315992   \n",
       "A4    A4               5695                 8.647519  291690.435467   \n",
       "A5    A5               7143                 8.874028  277404.509065   \n",
       "..   ...                ...                      ...            ...   \n",
       "P20  P20               5714                 8.650850  269391.584088   \n",
       "P21  P21                404                 6.003887  632658.457102   \n",
       "P22  P22               8214                 9.013717  280382.666402   \n",
       "P23  P23               2676                 7.892452  287411.914203   \n",
       "P24  P24               4735                 8.462948  273458.431905   \n",
       "\n",
       "     log1p_total_counts  pct_counts_in_top_50_genes  \\\n",
       "A1            12.522333                   19.840921   \n",
       "A2            12.553577                   20.939044   \n",
       "A3            12.560221                   22.172955   \n",
       "A4            12.583452                   27.611165   \n",
       "A5            12.533236                   18.475173   \n",
       "..                  ...                         ...   \n",
       "P20           12.503925                   24.437546   \n",
       "P21           13.357688                   89.952158   \n",
       "P22           12.543914                   22.469723   \n",
       "P23           12.568675                   42.949351   \n",
       "P24           12.518909                   41.822391   \n",
       "\n",
       "     pct_counts_in_top_100_genes  pct_counts_in_top_200_genes  \\\n",
       "A1                     25.839505                    33.360081   \n",
       "A2                     27.255579                    35.127449   \n",
       "A3                     28.552917                    36.249646   \n",
       "A4                     33.266155                    40.934702   \n",
       "A5                     24.793406                    33.001828   \n",
       "..                           ...                          ...   \n",
       "P20                    30.603855                    38.339866   \n",
       "P21                    97.011003                    99.435605   \n",
       "P22                    28.370960                    35.735929   \n",
       "P23                    49.899946                    59.486587   \n",
       "P24                    45.813129                    51.569357   \n",
       "\n",
       "     pct_counts_in_top_500_genes  \n",
       "A1                     47.525825  \n",
       "A2                     49.110680  \n",
       "A3                     49.253486  \n",
       "A4                     54.661100  \n",
       "A5                     47.420532  \n",
       "..                           ...  \n",
       "P20                    52.542721  \n",
       "P21                   100.000000  \n",
       "P22                    48.922146  \n",
       "P23                    76.346606  \n",
       "P24                    63.513161  \n",
       "\n",
       "[384 rows x 9 columns]"
      ]
     },
     "execution_count": 169,
     "metadata": {},
     "output_type": "execute_result"
    }
   ],
   "source": [
    "adata.obs"
   ]
  },
  {
   "cell_type": "code",
   "execution_count": 171,
   "metadata": {},
   "outputs": [
    {
     "name": "stderr",
     "output_type": "stream",
     "text": [
      "/home/jon/miniconda3/envs/npy/lib/python3.8/site-packages/anndata/_core/anndata.py:1192: FutureWarning: is_categorical is deprecated and will be removed in a future version.  Use is_categorical_dtype instead\n",
      "  if is_string_dtype(df[key]) and not is_categorical(df[key])\n",
      "... storing 'Chromosome' as categorical\n"
     ]
    },
    {
     "data": {
      "image/png": "[encoded data removed]",
      "text/plain": [
       "<Figure size 541.714x288 with 2 Axes>"
      ]
     },
     "metadata": {
      "needs_background": "light"
     },
     "output_type": "display_data"
    }
   ],
   "source": [
    "sc.pl.scatter(adata, x=\"log1p_n_genes_by_counts\", y=\"pct_counts_in_top_50_genes\", color=\"tdTomato\")"
   ]
  },
  {
   "cell_type": "code",
   "execution_count": 173,
   "metadata": {},
   "outputs": [
    {
     "data": {
      "image/png": "[encoded data removed]",
      "text/plain": [
       "<Figure size 538.128x288 with 1 Axes>"
      ]
     },
     "metadata": {
      "needs_background": "light"
     },
     "output_type": "display_data"
    }
   ],
   "source": [
    "sc.pl.violin(adata, keys=[\"tdTomato\", \"Cre\", \"Bhlhe22\"])"
   ]
  },
  {
   "cell_type": "code",
   "execution_count": 174,
   "metadata": {},
   "outputs": [
    {
     "data": {
      "text/plain": [
       "Index(['Xkr4', 'Gm37180', 'Gm37363', 'Gm37686', 'Gm37329', 'Gm38148',\n",
       "       'Gm19938', 'Gm27396', 'Gm37381', 'Rp1',\n",
       "       ...\n",
       "       'Gm28670', 'Gm28531', 'Gm21803', 'Gm20879', 'Gm29504', 'Gm20837',\n",
       "       'Mid1-ps1', 'Gm47283', 'Gm21742', 'tdTomato'],\n",
       "      dtype='object', length=55581)"
      ]
     },
     "execution_count": 174,
     "metadata": {},
     "output_type": "execute_result"
    }
   ],
   "source": [
    "adata.var_names"
   ]
  },
  {
   "cell_type": "code",
   "execution_count": 176,
   "metadata": {},
   "outputs": [
    {
     "data": {
      "image/png": "[encoded data removed]",
      "text/plain": [
       "<Figure size 541.714x288 with 2 Axes>"
      ]
     },
     "metadata": {
      "needs_background": "light"
     },
     "output_type": "display_data"
    }
   ],
   "source": [
    "sc.pl.scatter(adata, x=\"tdTomato\", y=\"Wt1\", color=\"Dmrt3\")"
   ]
  },
  {
   "cell_type": "code",
   "execution_count": null,
   "metadata": {},
   "outputs": [],
   "source": []
  }
 ],
 "metadata": {
  "kernelspec": {
   "display_name": "Python 3",
   "language": "python",
   "name": "python3"
  },
  "language_info": {
   "codemirror_mode": {
    "name": "ipython",
    "version": 3
   },
   "file_extension": ".py",
   "mimetype": "text/x-python",
   "name": "python",
   "nbconvert_exporter": "python",
   "pygments_lexer": "ipython3",
   "version": "3.8.5"
  }
 },
 "nbformat": 4,
 "nbformat_minor": 4
}
